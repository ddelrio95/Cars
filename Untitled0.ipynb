{
  "nbformat": 4,
  "nbformat_minor": 0,
  "metadata": {
    "colab": {
      "name": "Untitled0.ipynb",
      "provenance": [],
      "collapsed_sections": [],
      "authorship_tag": "ABX9TyPAOT5L7sX+lRUQCP3pNr1l",
      "include_colab_link": true
    },
    "kernelspec": {
      "name": "python3",
      "display_name": "Python 3"
    },
    "language_info": {
      "name": "python"
    }
  },
  "cells": [
    {
      "cell_type": "markdown",
      "metadata": {
        "id": "view-in-github",
        "colab_type": "text"
      },
      "source": [
        "<a href=\"https://colab.research.google.com/github/ddelrio95/Cars/blob/main/Untitled0.ipynb\" target=\"_parent\"><img src=\"https://colab.research.google.com/assets/colab-badge.svg\" alt=\"Open In Colab\"/></a>"
      ]
    },
    {
      "cell_type": "markdown",
      "metadata": {
        "id": "QO1do8ucYANA"
      },
      "source": [
        "Car Example"
      ]
    },
    {
      "cell_type": "code",
      "metadata": {
        "id": "IqN82BzIX_aY"
      },
      "source": [
        "class Cars:\n",
        "  def __init__(self, brand, model, color, year):\n",
        "    self.brand = brand\n",
        "    self.model = model\n",
        "    self.color = color\n",
        "    self.year = year\n",
        "\n",
        "    #Extract color, year\n",
        "    name_pieces = color.split(\" \")\n",
        "    self.color = name_pieces[0]\n",
        "    self.year = year[-1]\n"
      ],
      "execution_count": null,
      "outputs": []
    },
    {
      "cell_type": "code",
      "metadata": {
        "id": "_rQ14Lc3aBEO"
      },
      "source": [
        "car1 = Cars(\"Honda\", \"Accord\", \"brown\", \"2014\")\n",
        "car2 = Cars(\"BMW\", \"m3\", \"black\", \"2017\")\n",
        "car3 = Cars(\"Audi\", \"s4\", \"white\", \"2019\")"
      ],
      "execution_count": null,
      "outputs": []
    },
    {
      "cell_type": "code",
      "metadata": {
        "colab": {
          "base_uri": "https://localhost:8080/"
        },
        "id": "n4oHxEgDZB0o",
        "outputId": "f9c37557-790a-4277-c8fa-085fd92b7027"
      },
      "source": [
        "  print(car1.brand, car1.model, car1.color, car1.year)\n",
        "  print(car2.brand, car2.model, car2.color, car2.year)\n",
        "  print(car3.brand, car3.model, car3.color, car3.year)\n"
      ],
      "execution_count": null,
      "outputs": [
        {
          "output_type": "stream",
          "text": [
            "Honda Accord brown 2014\n",
            "BMW m3 black 2017\n",
            "Audi s4 white 2019\n"
          ],
          "name": "stdout"
        }
      ]
    }
  ]
}