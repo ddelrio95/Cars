{
  "nbformat": 4,
  "nbformat_minor": 0,
  "metadata": {
    "colab": {
      "name": "Untitled0.ipynb",
      "provenance": [],
      "collapsed_sections": [],
      "authorship_tag": "ABX9TyNeR49RC0TpZa7Y2ik0UDq+",
      "include_colab_link": true
    },
    "kernelspec": {
      "name": "python3",
      "display_name": "Python 3"
    },
    "language_info": {
      "name": "python"
    }
  },
  "cells": [
    {
      "cell_type": "markdown",
      "metadata": {
        "id": "view-in-github",
        "colab_type": "text"
      },
      "source": [
        "<a href=\"https://colab.research.google.com/github/ddelrio95/Cars/blob/main/Untitled0.ipynb\" target=\"_parent\"><img src=\"https://colab.research.google.com/assets/colab-badge.svg\" alt=\"Open In Colab\"/></a>"
      ]
    },
    {
      "cell_type": "markdown",
      "metadata": {
        "id": "QO1do8ucYANA"
      },
      "source": [
        "Car Example"
      ]
    },
    {
      "cell_type": "code",
      "metadata": {
        "id": "IqN82BzIX_aY"
      },
      "source": [
        "class Cars:\n",
        "  def __init__(self, brand, model, color, year):\n",
        "    self.brand = brand\n",
        "    self.model = model\n",
        "    self.color = color\n",
        "    self.year = year\n",
        "\n",
        "    #Extract color, year\n",
        "    name_pieces = color.split(\" \")\n",
        "    self.color = name_pieces[0]\n",
        "    self.year = year[-1]\n"
      ],
      "execution_count": 20,
      "outputs": []
    },
    {
      "cell_type": "code",
      "metadata": {
        "id": "_rQ14Lc3aBEO"
      },
      "source": [
        "car1 = Cars(\"Honda\", \"Accord\", \"brown\", \"2014\")\n",
        "car2 = Cars(\"BMW\", \"m3\", \"black\", \"2017\")\n",
        "car3 = Cars(\"Audi\", \"s4\", \"white\", \"2019\")"
      ],
      "execution_count": 21,
      "outputs": []
    },
    {
      "cell_type": "code",
      "metadata": {
        "colab": {
          "base_uri": "https://localhost:8080/"
        },
        "id": "n4oHxEgDZB0o",
        "outputId": "a84346ed-1d4b-4025-c90f-e1d2f3aebafb"
      },
      "source": [
        "  print(car1.brand, car1.model, car1.color, car1.year)\n",
        "  print(car2.brand, car2.model, car2.color, car2.year)\n",
        "  print(car3.brand, car3.model, car3.color, car3.year)\n"
      ],
      "execution_count": 22,
      "outputs": [
        {
          "output_type": "stream",
          "name": "stdout",
          "text": [
            "Honda Accord brown 4\n",
            "BMW m3 black 7\n",
            "Audi s4 white 9\n"
          ]
        }
      ]
    },
    {
      "cell_type": "markdown",
      "metadata": {
        "id": "H1IR0rvi5kpk"
      },
      "source": [
        "PC example"
      ]
    },
    {
      "cell_type": "code",
      "metadata": {
        "id": "NveWFsfd5miB"
      },
      "source": [
        "class Pc:\n",
        "  def __init__(self, model, year, storage):\n",
        "    self.model = model\n",
        "    self.year = year\n",
        "    self.storage = storage"
      ],
      "execution_count": 30,
      "outputs": []
    },
    {
      "cell_type": "code",
      "metadata": {
        "id": "7IKdvhfBDVAW"
      },
      "source": [
        "def myfunct(self):\n",
        "  print(\"The model selected is \" + self.model)      "
      ],
      "execution_count": null,
      "outputs": []
    },
    {
      "cell_type": "code",
      "metadata": {
        "id": "5cRSJXXa8dWA"
      },
      "source": [
        "pc1 = Pc(\"Mac\", \"2019\", \"256gb\")\n",
        "pc2 = Pc(\"Windows\", \"2017\", \"1000gb\")"
      ],
      "execution_count": 24,
      "outputs": []
    },
    {
      "cell_type": "code",
      "metadata": {
        "id": "VXWSKCd38-Vw"
      },
      "source": [
        "print(pc1.model)\n",
        "print(pc1.storage)\n",
        "print(pc1.year)\n",
        "\n",
        "print(pc2.model)\n",
        "print(pc2.storage)\n",
        "print(pc2.year)"
      ],
      "execution_count": null,
      "outputs": []
    },
    {
      "cell_type": "code",
      "metadata": {
        "id": "cOdySgiwwM1C"
      },
      "source": [
        "class Person:\n",
        "  pass"
      ],
      "execution_count": 3,
      "outputs": []
    },
    {
      "cell_type": "code",
      "metadata": {
        "colab": {
          "base_uri": "https://localhost:8080/"
        },
        "id": "asxP28HkxdpF",
        "outputId": "7c1f196d-0780-4254-8986-bc0d93065365"
      },
      "source": [
        "def myfuntion(fname, lname):\n",
        "  print(fname + \" \" + lname)\n",
        "\n",
        "myfuntion(\"Dario\", \"del Rio\")"
      ],
      "execution_count": 7,
      "outputs": [
        {
          "output_type": "stream",
          "name": "stdout",
          "text": [
            "Dario del Rio\n"
          ]
        }
      ]
    },
    {
      "cell_type": "code",
      "metadata": {
        "id": "cw-WTu4kyp5J"
      },
      "source": [
        "def other_function(*kids):\n",
        "  print(\"The youngest child is \" + kids[5])\n",
        "\n",
        "other_function(\"Emil\", \"Tobias\", \"Ana\", \"Max\", \"Alex\", \"Mark\", \"Dario\", \"Pedro\")"
      ],
      "execution_count": null,
      "outputs": []
    },
    {
      "cell_type": "code",
      "metadata": {
        "id": "IvU6tTjC5PwG"
      },
      "source": [
        "#BMI calculator\n",
        "name1 = \"YK\"\n",
        "height_m1 = 2\n",
        "weight_kg1 = 90\n",
        "\n",
        "name2 = \"YK's sister\"\n",
        "height_m2 = 1.8\n",
        "weight_kg2 = 70\n",
        "\n",
        "name3 = \"YK's brother\"\n",
        "height_m3 = 2.5\n",
        "weight_kg3 = 160"
      ],
      "execution_count": 2,
      "outputs": []
    },
    {
      "cell_type": "code",
      "metadata": {
        "id": "G3LO7P_d6AN8"
      },
      "source": [
        "def bmi_calculator(name, height_m, weight_kg):\n",
        "  bmi = weight_kg / (height_m ** 2)\n",
        "  print(\"bmi: \")\n",
        "  print(bmi)\n",
        "  if bmi < 25:\n",
        "    return name + \"is not overweight\"\n",
        "  else:\n",
        "      return name + \"is overweight\""
      ],
      "execution_count": 3,
      "outputs": []
    },
    {
      "cell_type": "code",
      "metadata": {
        "id": "WOxXjbfT7OW4"
      },
      "source": [
        "result1 = bmi_calculator(name1, height_m1, weight_kg1)\n",
        "result2 = bmi_calculator(name2, height_m2, weight_kg2)\n",
        "result3 = bmi_calculator(name3, height_m3, weight_kg3)"
      ],
      "execution_count": null,
      "outputs": []
    },
    {
      "cell_type": "code",
      "metadata": {
        "id": "UV3xPfiK7zIG"
      },
      "source": [
        "print(result1)\n",
        "print(result2)\n",
        "print(result3)"
      ],
      "execution_count": null,
      "outputs": []
    },
    {
      "cell_type": "code",
      "metadata": {
        "id": "gdd7enB8uwND"
      },
      "source": [
        "def funct1(food):\n",
        "  for x in food:\n",
        "    print(x)\n",
        "\n",
        "fruits = [\"apple\", \"banana\", \"cherry\"]\n",
        "\n",
        "funct1(fruits)"
      ],
      "execution_count": null,
      "outputs": []
    },
    {
      "cell_type": "code",
      "metadata": {
        "id": "nR5nbH-uvfP-"
      },
      "source": [
        "def funct2(x):\n",
        "  return 5 * x\n",
        "  \n",
        "print(funct2(2))"
      ],
      "execution_count": null,
      "outputs": []
    },
    {
      "cell_type": "code",
      "metadata": {
        "id": "m0-mDpFENUmE",
        "outputId": "364954f5-47a9-4838-d767-017b08d2bd4b",
        "colab": {
          "base_uri": "https://localhost:8080/"
        }
      },
      "source": [
        "def tri_recursion(k):\n",
        "  if(k > 0):\n",
        "    result = k + tri_recursion(k - 1)\n",
        "    print(result)\n",
        "  else:\n",
        "    result = 0\n",
        "  return result\n",
        "\n",
        "print(\"\\n\\nRecursioon Example Results\")\n",
        "tri_recursion(6)"
      ],
      "execution_count": 4,
      "outputs": [
        {
          "output_type": "stream",
          "name": "stdout",
          "text": [
            "\n",
            "\n",
            "Recursioon Example Results\n",
            "1\n",
            "3\n",
            "6\n",
            "10\n",
            "15\n",
            "21\n"
          ]
        },
        {
          "output_type": "execute_result",
          "data": {
            "text/plain": [
              "21"
            ]
          },
          "metadata": {},
          "execution_count": 4
        }
      ]
    }
  ]
}